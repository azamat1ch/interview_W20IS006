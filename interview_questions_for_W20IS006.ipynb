{
 "cells": [
  {
   "cell_type": "markdown",
   "metadata": {},
   "source": [
    "# job description"
   ]
  },
  {
   "cell_type": "markdown",
   "metadata": {},
   "source": [
    "keywords:\n",
    "- data wrangling\n",
    "- python and jupyter notebook\n",
    "- git and github\n",
    "- effective communication"
   ]
  },
  {
   "cell_type": "markdown",
   "metadata": {},
   "source": [
    "# communications"
   ]
  },
  {
   "cell_type": "markdown",
   "metadata": {},
   "source": [
    "1. can you briefly introduce yourself to me?\n",
    "2. what's your favourite machine learning or statistical algorithm? \n",
    "    - can you descirbe it in a non-technical way as if i knew nothing about this?"
   ]
  },
  {
   "cell_type": "markdown",
   "metadata": {},
   "source": [
    "1) I am Yelmagambetov Azamat, first year data science student. I have solid mathematical background and some programming experience.\n",
    "\n",
    "2) There isn't too many algorithms with which I had hands-on experience, so I would say K-nearest neighbors method (k-NN), which is easy to comprehend and use in classification problems. I like it because it has simple implementation, and can be used for regression problems as well.\n",
    "\n",
    "*Simple explanation: There is a quote that \"you are the average of the 5 people you spend most time with\", k-NN method has similar logic. The idea is that object classified by its closest neighbors. For example, if you do not know how to tag a wireless headset, you can find 5 similar headsets, and, if 4 of them are tagged as \"accessories\" and only 1 as \"Technology\", then you will also label it under \"accessories\"."
   ]
  },
  {
   "cell_type": "markdown",
   "metadata": {
    "ExecuteTime": {
     "start_time": "2020-02-08T09:42:55.574Z"
    }
   },
   "source": [
    "# basic statistical questions"
   ]
  },
  {
   "cell_type": "markdown",
   "metadata": {},
   "source": [
    "1. what is pearson correlation? how you interpret pearson correlation coefficients with the corresponding p values?"
   ]
  },
  {
   "cell_type": "markdown",
   "metadata": {},
   "source": [
    "It simply tells us if there is a linear relationship between two variables. If pearson correlation is positive(p>0), 1 variable will increase if the second increases, so we will see increasing scatter plot. Otherwise we will observe decrease of 1 variable, when second increases, and hence descending scatter plot. A value of 0 indicates that there is no association between the two variables"
   ]
  },
  {
   "cell_type": "markdown",
   "metadata": {},
   "source": [
    "# programming"
   ]
  },
  {
   "cell_type": "markdown",
   "metadata": {},
   "source": [
    "github basics"
   ]
  },
  {
   "cell_type": "markdown",
   "metadata": {},
   "source": [
    "1. what is git?\n",
    "2. what is github?\n",
    "    - do you have an account?\n",
    "    - from a scale from 1 to 5, how do you rate your github familarity?\n",
    "    - how often do you use it?"
   ]
  },
  {
   "cell_type": "markdown",
   "metadata": {},
   "source": [
    "1. Git is version controll system, which used to store different versions of a program in a repository. It allows developers to work together, manage large projects, track the changes that were made to the project.\n",
    "\n",
    "\n",
    "2. GitHub is web-service used to manage git project repositories\n",
    "    - Yes\n",
    "    - 2-3\n",
    "    - Not so frequently, I use it to download course materials/ipynb files and upload them to my jupyter"
   ]
  },
  {
   "cell_type": "markdown",
   "metadata": {},
   "source": [
    "python basics"
   ]
  },
  {
   "cell_type": "markdown",
   "metadata": {},
   "source": [
    "1. from a scale from 1 to 5, how do you rate your Python skill?\n",
    "2. can you name 3 Python packages that you're most familiar with or you like the most?\n",
    "3. what is different between a list and a tuple in Python?\n",
    "4. what is list comprehension?"
   ]
  },
  {
   "cell_type": "markdown",
   "metadata": {},
   "source": [
    "1) I would say 3, implying \"average\" python user.\n",
    "\n",
    "2) Pandas, Numpy, Matplotlib\n",
    "\n",
    "3) Tuple can't be modified(sorting, assignment, etc). List- mutable, Tuple- Immutable.\n",
    "\n",
    "4) A concise way to create list and its values at the same time, without looping. Below is an example:"
   ]
  },
  {
   "cell_type": "code",
   "execution_count": 1,
   "metadata": {},
   "outputs": [
    {
     "data": {
      "text/plain": [
       "[0, 1, 4, 9, 16, 25, 36, 49, 64, 81, 100]"
      ]
     },
     "execution_count": 1,
     "metadata": {},
     "output_type": "execute_result"
    }
   ],
   "source": [
    "sqr_1to10=[x*x for x in range(11)]\n",
    "sqr_1to10"
   ]
  },
  {
   "cell_type": "markdown",
   "metadata": {},
   "source": [
    "# hands on"
   ]
  },
  {
   "cell_type": "markdown",
   "metadata": {},
   "source": [
    "please limit the use of package to\n",
    "- built-in Python packages\n",
    "- `pandas`\n",
    "- `scipy`\n",
    "- `numpy`\n",
    "- `matplotlib`"
   ]
  },
  {
   "cell_type": "markdown",
   "metadata": {},
   "source": [
    "1. can you create a numpy array filled with 20 random numbers and make it in shape of 4 rows by 5 columns?\n",
    "    - can you access the element in `(1, 3)`?\n",
    "    - can you obtain the mean for each row?"
   ]
  },
  {
   "cell_type": "code",
   "execution_count": 2,
   "metadata": {},
   "outputs": [
    {
     "name": "stdout",
     "output_type": "stream",
     "text": [
      "numbers: [[0.28312528 0.72853017 0.99830166 0.34012634 0.04770359]\n",
      " [0.76524884 0.67208998 0.90685935 0.92050046 0.32218267]\n",
      " [0.88033515 0.17255236 0.00493517 0.07155453 0.40302643]\n",
      " [0.37773636 0.10564123 0.17351149 0.60140976 0.47424902]] \n",
      "\n",
      "Element (1,3): 0.9205004643081501 \n",
      "\n",
      "Mean for each row: [0.47955741 0.71737626 0.30648073 0.34650957]\n"
     ]
    }
   ],
   "source": [
    "import pandas as pd\n",
    "import numpy as np\n",
    "import matplotlib.pyplot as plt\n",
    "\n",
    "numbers = np.random.rand(4,5)\n",
    "#numbers = np.random.randint(5, size=(4,5))\n",
    "print(\"numbers:\", numbers,'\\n')\n",
    "print(\"Element (1,3):\", numbers[1,3],'\\n')\n",
    "print( \"Mean for each row:\", np.mean(numbers,axis=1))"
   ]
  },
  {
   "cell_type": "markdown",
   "metadata": {},
   "source": [
    "2. can you read the following CSV file using `pandas` ?\n",
    "    - https://gist.githubusercontent.com/zhiyzuo/2b53d783910290d2d1f068d9c74111c5/raw/447f9a2dc946ea918363f93aeb0eff89ec3b6781/data.csv\n",
    "    - what's the dimension of this data?\n",
    "    - what are the types of the columns?"
   ]
  },
  {
   "cell_type": "code",
   "execution_count": 3,
   "metadata": {},
   "outputs": [
    {
     "name": "stdout",
     "output_type": "stream",
     "text": [
      "Dimension of the data is: 2\n",
      "<class 'pandas.core.frame.DataFrame'>\n",
      "RangeIndex: 1000 entries, 0 to 999\n",
      "Data columns (total 5 columns):\n",
      "x1    1000 non-null float64\n",
      "x2    991 non-null float64\n",
      "x3    1000 non-null object\n",
      "x4    1000 non-null float64\n",
      "x5    1000 non-null float64\n",
      "dtypes: float64(4), object(1)\n",
      "memory usage: 39.2+ KB\n",
      "None\n"
     ]
    }
   ],
   "source": [
    "data=pd.read_csv('data.csv')\n",
    "print('Dimension of the data is:',data.ndim)\n",
    "print(data.info())"
   ]
  },
  {
   "cell_type": "markdown",
   "metadata": {},
   "source": [
    "3. are there any missing values?\n",
    "    - if so, how many?\n",
    "    - could you also drop the rows with at least one NA's in any column?"
   ]
  },
  {
   "cell_type": "markdown",
   "metadata": {},
   "source": [
    "As it can be seen from data.info(), there are 9 null values in x2 column"
   ]
  },
  {
   "cell_type": "code",
   "execution_count": 4,
   "metadata": {},
   "outputs": [],
   "source": [
    "data.dropna(axis=0,inplace=True)"
   ]
  },
  {
   "cell_type": "markdown",
   "metadata": {},
   "source": [
    "4. could you visualize the distribution of column 1 and 3 with the correct type of plots?"
   ]
  },
  {
   "cell_type": "code",
   "execution_count": 5,
   "metadata": {},
   "outputs": [
    {
     "data": {
      "text/plain": [
       "Text(0.5, 1.0, 'Distributon of x1')"
      ]
     },
     "execution_count": 5,
     "metadata": {},
     "output_type": "execute_result"
    },
    {
     "data": {
      "image/png": "[encoded data removed]",
      "text/plain": [
       "<Figure size 720x360 with 1 Axes>"
      ]
     },
     "metadata": {
      "needs_background": "light"
     },
     "output_type": "display_data"
    }
   ],
   "source": [
    "data['x1'].plot.kde()\n",
    "data['x1'].plot.hist(density=True, figsize=(10,5))\n",
    "plt.title('Distributon of x1')"
   ]
  },
  {
   "cell_type": "code",
   "execution_count": 6,
   "metadata": {},
   "outputs": [
    {
     "data": {
      "text/plain": [
       "Text(0.5, 1.0, 'Distributon of x3')"
      ]
     },
     "execution_count": 6,
     "metadata": {},
     "output_type": "execute_result"
    },
    {
     "data": {
      "image/png": "[encoded data removed]",
      "text/plain": [
       "<Figure size 720x360 with 1 Axes>"
      ]
     },
     "metadata": {
      "needs_background": "light"
     },
     "output_type": "display_data"
    }
   ],
   "source": [
    "data['x3'].value_counts().plot(kind='barh',color='green',figsize=(10,5))\n",
    "plt.title('Distributon of x3')"
   ]
  },
  {
   "cell_type": "markdown",
   "metadata": {},
   "source": [
    "5. can you visualize the relationship between column 1 and column 4?"
   ]
  },
  {
   "cell_type": "code",
   "execution_count": 7,
   "metadata": {},
   "outputs": [
    {
     "data": {
      "text/plain": [
       "Text(0.5, 1.0, 'Relationship between Column 1 and Column 4')"
      ]
     },
     "execution_count": 7,
     "metadata": {},
     "output_type": "execute_result"
    },
    {
     "data": {
      "image/png": "[encoded data removed]",
      "text/plain": [
       "<Figure size 432x288 with 1 Axes>"
      ]
     },
     "metadata": {
      "needs_background": "light"
     },
     "output_type": "display_data"
    }
   ],
   "source": [
    "data.plot(kind='scatter',x='x1',y='x4', color='red');\n",
    "plt.title('Relationship between Column 1 and Column 4')"
   ]
  },
  {
   "cell_type": "markdown",
   "metadata": {},
   "source": [
    "6. could you count the occurences of each distinct value in column 3?"
   ]
  },
  {
   "cell_type": "code",
   "execution_count": 8,
   "metadata": {},
   "outputs": [
    {
     "data": {
      "text/plain": [
       "red      354\n",
       "green    330\n",
       "blue     307\n",
       "Name: x3, dtype: int64"
      ]
     },
     "execution_count": 8,
     "metadata": {},
     "output_type": "execute_result"
    }
   ],
   "source": [
    "data['x3'].value_counts()"
   ]
  },
  {
   "cell_type": "markdown",
   "metadata": {},
   "source": [
    "7. any outliers in column 5?"
   ]
  },
  {
   "cell_type": "code",
   "execution_count": 9,
   "metadata": {
    "scrolled": true
   },
   "outputs": [
    {
     "name": "stdout",
     "output_type": "stream",
     "text": [
      "273   -225.525526\n",
      "310   -227.177177\n",
      "325   -226.426426\n",
      "337   -228.528529\n",
      "347    437.837838\n",
      "368    376.876877\n",
      "383    416.516517\n",
      "394   -243.393393\n",
      "400    236.636637\n",
      "402    253.453453\n",
      "416   -205.855856\n",
      "426   -161.411411\n",
      "430    370.570571\n",
      "451    361.261261\n",
      "455   -126.876877\n",
      "460   -116.516517\n",
      "495   -117.117117\n",
      "500    321.321321\n",
      "Name: x5, dtype: float64\n"
     ]
    }
   ],
   "source": [
    "print(data['x5'][np.abs(data['x5']-data['x5'].mean()) >= (3*data['x5'].std())])\n",
    "# Display the numbers which are not within +/- 3 standard deviations range"
   ]
  },
  {
   "cell_type": "code",
   "execution_count": 10,
   "metadata": {},
   "outputs": [
    {
     "data": {
      "text/plain": [
       "<matplotlib.axes._subplots.AxesSubplot at 0x1fb9da48c08>"
      ]
     },
     "execution_count": 10,
     "metadata": {},
     "output_type": "execute_result"
    },
    {
     "data": {
      "image/png": "[encoded data removed]",
      "text/plain": [
       "<Figure size 720x360 with 1 Axes>"
      ]
     },
     "metadata": {
      "needs_background": "light"
     },
     "output_type": "display_data"
    }
   ],
   "source": [
    "data['x5'].plot.box(vert=False, figsize=(10,5))"
   ]
  }
 ],
 "metadata": {
  "kernelspec": {
   "display_name": "Python 3",
   "language": "python",
   "name": "python3"
  },
  "language_info": {
   "codemirror_mode": {
    "name": "ipython",
    "version": 3
   },
   "file_extension": ".py",
   "mimetype": "text/x-python",
   "name": "python",
   "nbconvert_exporter": "python",
   "pygments_lexer": "ipython3",
   "version": "3.7.5"
  },
  "toc": {
   "base_numbering": 1,
   "nav_menu": {},
   "number_sections": true,
   "sideBar": true,
   "skip_h1_title": false,
   "title_cell": "Table of Contents",
   "title_sidebar": "Contents",
   "toc_cell": false,
   "toc_position": {},
   "toc_section_display": true,
   "toc_window_display": true
  }
 },
 "nbformat": 4,
 "nbformat_minor": 2
}
